{
  "nbformat": 4,
  "nbformat_minor": 0,
  "metadata": {
    "colab": {
      "provenance": [],
      "authorship_tag": "ABX9TyNAbxZcKSmDcZr4d0eDTbol",
      "include_colab_link": true
    },
    "kernelspec": {
      "name": "python3",
      "display_name": "Python 3"
    },
    "language_info": {
      "name": "python"
    }
  },
  "cells": [
    {
      "cell_type": "markdown",
      "metadata": {
        "id": "view-in-github",
        "colab_type": "text"
      },
      "source": [
        "<a href=\"https://colab.research.google.com/github/Devsharma003/Dev/blob/main/weather_forecast.ipynb\" target=\"_parent\"><img src=\"https://colab.research.google.com/assets/colab-badge.svg\" alt=\"Open In Colab\"/></a>"
      ]
    },
    {
      "cell_type": "code",
      "execution_count": 2,
      "metadata": {
        "id": "pYBVA0X1sKz0"
      },
      "outputs": [],
      "source": [
        "import requests"
      ]
    },
    {
      "cell_type": "code",
      "source": [
        "def fetch_weather_data(city):\n",
        "    api_key = \"b6907d289e10d714a6e88b30761fae22\"\n",
        "    base_url = \"https://samples.openweathermap.org/data/2.5/forecast/hourly\"\n",
        "    params = {\n",
        "        \"q\": city,\n",
        "        \"appid\": api_key,\n",
        "    }\n",
        "    response = requests.get(base_url, params=params)\n",
        "    data = response.json()\n",
        "    return data"
      ],
      "metadata": {
        "id": "oPDUEqMisMwL"
      },
      "execution_count": 3,
      "outputs": []
    },
    {
      "cell_type": "code",
      "source": [
        "def get_date_from_user():\n",
        "    return input(\"Enter the date (YYYY-MM-DD): \")\n"
      ],
      "metadata": {
        "id": "a35_nIDfwrnt"
      },
      "execution_count": 4,
      "outputs": []
    },
    {
      "cell_type": "code",
      "source": [
        "def get_temperature(data, date):\n",
        "    for forecast in data['list']:\n",
        "        if forecast['dt_txt'].split()[0] == date:\n",
        "            temperature = forecast['main']['temp']\n",
        "            return temperature"
      ],
      "metadata": {
        "id": "EVuMDQXOwwAK"
      },
      "execution_count": 5,
      "outputs": []
    },
    {
      "cell_type": "code",
      "source": [
        "def get_wind_speed(data, date):\n",
        "    for forecast in data['list']:\n",
        "        if forecast['dt_txt'].split()[0] == date:\n",
        "            wind_speed = forecast['wind']['speed']\n",
        "            return wind_speed"
      ],
      "metadata": {
        "id": "UGcRP7jJwz5e"
      },
      "execution_count": 6,
      "outputs": []
    },
    {
      "cell_type": "code",
      "source": [
        "def get_pressure(data, date):\n",
        "    for forecast in data['list']:\n",
        "        if forecast['dt_txt'].split()[0] == date:\n",
        "            pressure = forecast['main']['pressure']\n",
        "            return pressure\n"
      ],
      "metadata": {
        "id": "5Br3bJgDw25h"
      },
      "execution_count": 7,
      "outputs": []
    },
    {
      "cell_type": "code",
      "source": [
        "def main():\n",
        "    city_name = \"London\"\n",
        "    weather_data = fetch_weather_data(city_name)\n",
        "\n",
        "    while True:\n",
        "        print(\"Menu:\")\n",
        "        print(\"1. Get Temperature\")\n",
        "        print(\"2. Get Wind Speed\")\n",
        "        print(\"3. Get Pressure\")\n",
        "        print(\"0. Exit\")\n",
        "\n",
        "        choice = input(\"Enter your choice: \")\n",
        "\n",
        "        if choice == \"1\":\n",
        "            date = get_date_from_user()\n",
        "            temperature = get_temperature(weather_data, date)\n",
        "            if temperature:\n",
        "                print(f\"Temperature on {date}: {temperature} K\")\n",
        "            else:\n",
        "                print(\"No temperature data available for the specified date.\")\n",
        "        elif choice == \"2\":\n",
        "            date = get_date_from_user()\n",
        "            wind_speed = get_wind_speed(weather_data, date)\n",
        "            if wind_speed:\n",
        "                print(f\"Wind Speed on {date}: {wind_speed} m/s\")\n",
        "            else:\n",
        "                print(\"No wind speed data available for the specified date.\")\n",
        "        elif choice == \"3\":\n",
        "            date = get_date_from_user()\n",
        "            pressure = get_pressure(weather_data, date)\n",
        "            if pressure:\n",
        "                print(f\"Pressure on {date}: {pressure} hPa\")\n",
        "            else:\n",
        "                print(\"No pressure data available for the specified date.\")\n",
        "        elif choice == \"0\":\n",
        "            print(\"Exiting program.\")\n",
        "            break\n",
        "        else:\n",
        "            print(\"Invalid choice. Please try again.\")\n"
      ],
      "metadata": {
        "id": "9GJIn4NBw6Wk"
      },
      "execution_count": 9,
      "outputs": []
    },
    {
      "cell_type": "code",
      "source": [
        "if __name__ == \"__main__\":\n",
        "    main()\n"
      ],
      "metadata": {
        "colab": {
          "base_uri": "https://localhost:8080/"
        },
        "id": "kZ56Enmjw9QS",
        "outputId": "be8c07c2-c9f0-4345-ca3f-9fb9b8ac2d51"
      },
      "execution_count": 10,
      "outputs": [
        {
          "output_type": "stream",
          "name": "stdout",
          "text": [
            "Menu:\n",
            "1. Get Temperature\n",
            "2. Get Wind Speed\n",
            "3. Get Pressure\n",
            "0. Exit\n",
            "Enter your choice: 2\n",
            "Enter the date (YYYY-MM-DD): 2003-08-03\n",
            "No wind speed data available for the specified date.\n",
            "Menu:\n",
            "1. Get Temperature\n",
            "2. Get Wind Speed\n",
            "3. Get Pressure\n",
            "0. Exit\n",
            "Enter your choice: 1\n",
            "Enter the date (YYYY-MM-DD): 1999-08-03\n",
            "No temperature data available for the specified date.\n",
            "Menu:\n",
            "1. Get Temperature\n",
            "2. Get Wind Speed\n",
            "3. Get Pressure\n",
            "0. Exit\n",
            "Enter your choice: 1\n",
            "Enter the date (YYYY-MM-DD): 2022-08-03\n",
            "No temperature data available for the specified date.\n",
            "Menu:\n",
            "1. Get Temperature\n",
            "2. Get Wind Speed\n",
            "3. Get Pressure\n",
            "0. Exit\n",
            "Enter your choice: 3\n",
            "Enter the date (YYYY-MM-DD): 2023-01-01\n",
            "No pressure data available for the specified date.\n",
            "Menu:\n",
            "1. Get Temperature\n",
            "2. Get Wind Speed\n",
            "3. Get Pressure\n",
            "0. Exit\n",
            "Enter your choice: 1\n",
            "Enter the date (YYYY-MM-DD): 2019-03-27\n",
            "Temperature on 2019-03-27: 278.76 K\n",
            "Menu:\n",
            "1. Get Temperature\n",
            "2. Get Wind Speed\n",
            "3. Get Pressure\n",
            "0. Exit\n",
            "Enter your choice: 2\n",
            "Enter the date (YYYY-MM-DD): 2019-03-27\n",
            "Wind Speed on 2019-03-27: 1.6 m/s\n",
            "Menu:\n",
            "1. Get Temperature\n",
            "2. Get Wind Speed\n",
            "3. Get Pressure\n",
            "0. Exit\n",
            "Enter your choice: 3\n",
            "Enter the date (YYYY-MM-DD): 2019-03-27\n",
            "Pressure on 2019-03-27: 1031.934 hPa\n",
            "Menu:\n",
            "1. Get Temperature\n",
            "2. Get Wind Speed\n",
            "3. Get Pressure\n",
            "0. Exit\n",
            "Enter your choice: 0\n",
            "Exiting program.\n"
          ]
        }
      ]
    },
    {
      "cell_type": "code",
      "source": [],
      "metadata": {
        "id": "H6l_-W5LxqCo"
      },
      "execution_count": null,
      "outputs": []
    }
  ]
}