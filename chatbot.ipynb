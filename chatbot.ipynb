{
  "nbformat": 4,
  "nbformat_minor": 0,
  "metadata": {
    "colab": {
      "provenance": [],
      "authorship_tag": "ABX9TyNiSWSueTXhGBdO7Gnu5EeH",
      "include_colab_link": true
    },
    "kernelspec": {
      "name": "python3",
      "display_name": "Python 3"
    },
    "language_info": {
      "name": "python"
    }
  },
  "cells": [
    {
      "cell_type": "markdown",
      "metadata": {
        "id": "view-in-github",
        "colab_type": "text"
      },
      "source": [
        "<a href=\"https://colab.research.google.com/github/Devsharma003/Dev/blob/main/chatbot.ipynb\" target=\"_parent\"><img src=\"https://colab.research.google.com/assets/colab-badge.svg\" alt=\"Open In Colab\"/></a>"
      ]
    },
    {
      "cell_type": "code",
      "execution_count": null,
      "metadata": {
        "id": "62wfoLNf7oYp"
      },
      "outputs": [],
      "source": [
        "import re\n",
        "import random"
      ]
    },
    {
      "cell_type": "code",
      "source": [
        "class RuleBot:\n",
        "  ### potential negative response\n",
        "  negative_responses = ('no','nope','nah','naw','not a choice','sorry')\n",
        "  ###Exit conversation keywords\n",
        "  exitcommands = ('quit','pause','exit','goodbye','bye','later')\n",
        "  ### Random starter question\n",
        "  random_questions = (\"Why are you here?\",\"Are there many people like you?\",\"What do you consume for sustenance?\",\"Is there any intelligent life in this planet?\",\"What planets have you visisted?\",\"Does earth have a leader?\",\"what technology do you have on this planet?\")\n",
        "\n",
        "def _init_(self):\n",
        "  self.alienbabble = {'describe_planet_intent': r'.*\\s*your planet.*',\n",
        "                      'answer_why_intent': r'why\\sare.*',\n",
        "                      'about_intellipat':r'.*\\s*intellipat'}\n",
        "\n",
        "def  greet(self):\n",
        "  self.name = input(\"What is your name?\\n\")\n",
        "  will_help = input(f\"Hi{self.name}, I am Rule-Bot. Will you help me learn about your planet?\\n\")\n",
        "  if will_help in self.negative_responses:\n",
        "    print(\"OK, have a nice Earth day!\")\n",
        "    return\n",
        "  self.chat()\n",
        "\n",
        "def make_exit(self_reply):\n",
        "  for command in self.exist_commands:\n",
        "    if reply == command:\n",
        "      print(\"okay.we have a nice Earth day\")\n",
        "      return True\n",
        "\n",
        "def chat(self):\n",
        "  reply=input(random.choice(self.random_questions)).lower()\n",
        "  while not self.make_exit(reply):\n",
        "    reply= input (self.match_reply(reply))\n",
        "\n",
        "def match_reply(self, reply):\n",
        "  for key, value in self.alienbabble.item():\n",
        "    intent = key\n",
        "    regex_pattern = value\n",
        "    found_match = re.match(regex_pattern, reply)\n",
        "  if found_match and intent == 'describe_planet_intent':\n",
        "    return self.describe_planet_intent()\n",
        "  elif found_match and intent == 'answer_why_intent':\n",
        "    return self.answer_why_intent()\n",
        "  elif found_match and intent == 'about_intellipat':\n",
        "      return self.about_intellipat()\n",
        "  if not found_match:\n",
        "     return self.no_match_intent()\n",
        "\n",
        "def describe_planet_intent(self):\n",
        "  responses = (\"My planet is a utopia of diverse organisms and species.\\n\",\n",
        "               \"I am from opidipus, the capital of the wayward Galaxies.\\n\")\n",
        "  return random.choice(responses)\n",
        "\n",
        "def answer_why_intent(self):\n",
        "   responses = (\"I come in peace\\n\",\"I am here to collect data on your planet and its inhabitants\\n\",\n",
        "                \"I heard the coffee is good\\n\")\n",
        "   return random.choice(responses)\n",
        "\n",
        "def about_intellipat(self):\n",
        "  responses = (\"Intellipat is world's largest professional educational company\\n\",\"Intellipat wil make you learn concept in the way never\",\n",
        "  \"Intellipat is where your career and skill grows\\n\")\n",
        "  return random.choice(responses)\n",
        "\n",
        "def no_match_intent(self):\n",
        "  responses = (\"Please tell me more.\\n\",\"Tell me more!\\n\",\"Why do you say that?\\n\",\"I see. C an you elaborate?\\n\",\n",
        "               \"Interesting.Can you tell me more?\\n\",\"I see. How do you think?\\n\",\"why?\\n\",\n",
        "               \"How do you think i feel when you say that?\\n\")\n",
        "  return random.choice(responses)\n",
        "\n",
        "AlienBot = RuleBot()\n",
        "AlienBot.greet()\n",
        "\n"
      ],
      "metadata": {
        "colab": {
          "base_uri": "https://localhost:8080/",
          "height": 217
        },
        "id": "UJp3VXL57rLo",
        "outputId": "9e06c459-423f-46e6-875d-2c619d1ed7ee"
      },
      "execution_count": null,
      "outputs": [
        {
          "output_type": "error",
          "ename": "AttributeError",
          "evalue": "ignored",
          "traceback": [
            "\u001b[0;31m---------------------------------------------------------------------------\u001b[0m",
            "\u001b[0;31mAttributeError\u001b[0m                            Traceback (most recent call last)",
            "\u001b[0;32m<ipython-input-13-2c763e914683>\u001b[0m in \u001b[0;36m<cell line: 69>\u001b[0;34m()\u001b[0m\n\u001b[1;32m     67\u001b[0m \u001b[0;34m\u001b[0m\u001b[0m\n\u001b[1;32m     68\u001b[0m \u001b[0mAlienBot\u001b[0m \u001b[0;34m=\u001b[0m \u001b[0mRuleBot\u001b[0m\u001b[0;34m(\u001b[0m\u001b[0;34m)\u001b[0m\u001b[0;34m\u001b[0m\u001b[0;34m\u001b[0m\u001b[0m\n\u001b[0;32m---> 69\u001b[0;31m \u001b[0mAlienBot\u001b[0m\u001b[0;34m.\u001b[0m\u001b[0mgreet\u001b[0m\u001b[0;34m(\u001b[0m\u001b[0;34m)\u001b[0m\u001b[0;34m\u001b[0m\u001b[0;34m\u001b[0m\u001b[0m\n\u001b[0m\u001b[1;32m     70\u001b[0m \u001b[0;34m\u001b[0m\u001b[0m\n",
            "\u001b[0;31mAttributeError\u001b[0m: 'RuleBot' object has no attribute 'greet'"
          ]
        }
      ]
    },
    {
      "cell_type": "code",
      "source": [],
      "metadata": {
        "id": "Pk3Sp9vQK4AI"
      },
      "execution_count": null,
      "outputs": []
    }
  ]
}